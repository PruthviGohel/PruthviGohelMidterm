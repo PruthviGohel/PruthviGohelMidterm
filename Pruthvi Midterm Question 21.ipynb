{
 "cells": [
  {
   "cell_type": "markdown",
   "id": "63dd4e4c-a6b0-444b-9b5b-af2ced9b7759",
   "metadata": {},
   "source": [
    "<h1> Midterm: Question 21</h1>"
   ]
  },
  {
   "cell_type": "code",
   "execution_count": 20,
   "id": "8c3685c5-9e52-4617-b6cc-1746bd1769f6",
   "metadata": {},
   "outputs": [
    {
     "name": "stdout",
     "output_type": "stream",
     "text": [
      "5.0\n",
      "0.75\n"
     ]
    }
   ],
   "source": [
    "import math\n",
    "\n",
    "class Point:\n",
    "    def __init__(self, x=0, y=0): #initialize the point with x and y co-ordinates, the default one (0, 0)\n",
    "        self.x = x\n",
    "        self.y = y\n",
    "\n",
    "class Segment:\n",
    "    def __init__(self, p1, p2): #the segment with two endpoints are now initialized\n",
    "        self.p1 = p1\n",
    "        self.p2 = p2\n",
    "\n",
    "    def length(self): #by using the formula of distance, the length of the segment is calculated and returned\n",
    "        return math.sqrt((self.p2.x - self.p1.x)**2 + (self.p2.y - self.p1.y)**2)\n",
    "\n",
    "    def slope(self):\n",
    "        try: #the slope of the segment is calculated and returned\n",
    "            return (self.p2.y - self.p1.y) / (self.p2.x - self.p1.x)\n",
    "        except ZeroDivisionError: #return none\n",
    "            return None\n",
    "\n",
    "p1 = Point(3, 4)\n",
    "p2 = Point(7, 7)\n",
    "\n",
    "s = Segment(p1, p2)\n",
    "\n",
    "print(s.length())\n",
    "print(s.slope())\n"
   ]
  },
  {
   "cell_type": "code",
   "execution_count": null,
   "id": "970e93ca-b68b-4c5e-a9f4-126a92496067",
   "metadata": {},
   "outputs": [],
   "source": []
  }
 ],
 "metadata": {
  "kernelspec": {
   "display_name": "Python 3 (ipykernel)",
   "language": "python",
   "name": "python3"
  },
  "language_info": {
   "codemirror_mode": {
    "name": "ipython",
    "version": 3
   },
   "file_extension": ".py",
   "mimetype": "text/x-python",
   "name": "python",
   "nbconvert_exporter": "python",
   "pygments_lexer": "ipython3",
   "version": "3.12.4"
  }
 },
 "nbformat": 4,
 "nbformat_minor": 5
}
