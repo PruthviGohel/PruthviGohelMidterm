{
 "cells": [
  {
   "cell_type": "code",
   "execution_count": 37,
   "id": "7570cd9b-6042-4cb1-8d1f-86b43bd53277",
   "metadata": {},
   "outputs": [
    {
     "name": "stdout",
     "output_type": "stream",
     "text": [
      "*\n",
      "*\n",
      "**\n",
      " *\n",
      "*\n",
      "**\n",
      "***\n",
      "****\n",
      " ***\n",
      "  **\n",
      "   *\n"
     ]
    }
   ],
   "source": [
    "def tough(indent, n):\n",
    "    if n == 0:\n",
    "        return\n",
    "    elif n == 1:\n",
    "        print(' ' * indent + '*')\n",
    "    else:\n",
    "        for i in range(1, n + 1): # Print increasing pattern\n",
    "            print(' ' * indent + '*' * i)\n",
    "        \n",
    "        for i in range(n - 1, 0, -1): # Print decreasing pattern\n",
    "            print(' ' * (indent + n - i) + '*' * i)\n",
    "\n",
    "tough(0, 0)\n",
    "tough(0, 1)\n",
    "tough(0, 2)\n",
    "tough(0, 4)\n"
   ]
  },
  {
   "cell_type": "code",
   "execution_count": null,
   "id": "be5a090d-d0b1-40eb-944c-98086be3c47c",
   "metadata": {},
   "outputs": [],
   "source": []
  }
 ],
 "metadata": {
  "kernelspec": {
   "display_name": "Python 3 (ipykernel)",
   "language": "python",
   "name": "python3"
  },
  "language_info": {
   "codemirror_mode": {
    "name": "ipython",
    "version": 3
   },
   "file_extension": ".py",
   "mimetype": "text/x-python",
   "name": "python",
   "nbconvert_exporter": "python",
   "pygments_lexer": "ipython3",
   "version": "3.12.4"
  }
 },
 "nbformat": 4,
 "nbformat_minor": 5
}
